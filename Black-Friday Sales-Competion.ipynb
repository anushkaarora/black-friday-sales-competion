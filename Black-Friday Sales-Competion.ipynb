{
 "cells": [
  {
   "cell_type": "code",
   "execution_count": 47,
   "id": "ec093451",
   "metadata": {},
   "outputs": [],
   "source": [
    "import numpy as np \n",
    "import pandas as pd\n",
    "import matplotlib.pyplot as plt\n",
    "import seaborn as sns \n",
    "from sklearn.model_selection import train_test_split \n",
    "from sklearn.preprocessing import OneHotEncoder, MinMaxScaler \n",
    "from sklearn.impute import SimpleImputer\n",
    "from sklearn.pipeline import Pipeline, FeatureUnion\n",
    "from sklearn.linear_model import LinearRegression, Lasso\n",
    "from sklearn.model_selection import GridSearchCV\n",
    "import statsmodels.api as sm \n",
    "from sklearn.preprocessing import StandardScaler\n",
    "from xgboost import XGBRegressor\n",
    "from sklearn.ensemble import RandomForestRegressor"
   ]
  },
  {
   "cell_type": "markdown",
   "id": "d422e28c",
   "metadata": {},
   "source": [
    "### 1. Read the train dataset "
   ]
  },
  {
   "cell_type": "code",
   "execution_count": 2,
   "id": "20f84da3",
   "metadata": {},
   "outputs": [],
   "source": [
    "train = pd.read_csv('./train_oSwQCTC/train.csv')"
   ]
  },
  {
   "cell_type": "code",
   "execution_count": 3,
   "id": "c910627d",
   "metadata": {},
   "outputs": [
    {
     "data": {
      "text/html": [
       "<div>\n",
       "<style scoped>\n",
       "    .dataframe tbody tr th:only-of-type {\n",
       "        vertical-align: middle;\n",
       "    }\n",
       "\n",
       "    .dataframe tbody tr th {\n",
       "        vertical-align: top;\n",
       "    }\n",
       "\n",
       "    .dataframe thead th {\n",
       "        text-align: right;\n",
       "    }\n",
       "</style>\n",
       "<table border=\"1\" class=\"dataframe\">\n",
       "  <thead>\n",
       "    <tr style=\"text-align: right;\">\n",
       "      <th></th>\n",
       "      <th>User_ID</th>\n",
       "      <th>Product_ID</th>\n",
       "      <th>Gender</th>\n",
       "      <th>Age</th>\n",
       "      <th>Occupation</th>\n",
       "      <th>City_Category</th>\n",
       "      <th>Stay_In_Current_City_Years</th>\n",
       "      <th>Marital_Status</th>\n",
       "      <th>Product_Category_1</th>\n",
       "      <th>Product_Category_2</th>\n",
       "      <th>Product_Category_3</th>\n",
       "      <th>Purchase</th>\n",
       "    </tr>\n",
       "  </thead>\n",
       "  <tbody>\n",
       "    <tr>\n",
       "      <th>0</th>\n",
       "      <td>1000001</td>\n",
       "      <td>P00069042</td>\n",
       "      <td>F</td>\n",
       "      <td>0-17</td>\n",
       "      <td>10</td>\n",
       "      <td>A</td>\n",
       "      <td>2</td>\n",
       "      <td>0</td>\n",
       "      <td>3</td>\n",
       "      <td>NaN</td>\n",
       "      <td>NaN</td>\n",
       "      <td>8370</td>\n",
       "    </tr>\n",
       "    <tr>\n",
       "      <th>1</th>\n",
       "      <td>1000001</td>\n",
       "      <td>P00248942</td>\n",
       "      <td>F</td>\n",
       "      <td>0-17</td>\n",
       "      <td>10</td>\n",
       "      <td>A</td>\n",
       "      <td>2</td>\n",
       "      <td>0</td>\n",
       "      <td>1</td>\n",
       "      <td>6.0</td>\n",
       "      <td>14.0</td>\n",
       "      <td>15200</td>\n",
       "    </tr>\n",
       "  </tbody>\n",
       "</table>\n",
       "</div>"
      ],
      "text/plain": [
       "   User_ID Product_ID Gender   Age  Occupation City_Category  \\\n",
       "0  1000001  P00069042      F  0-17          10             A   \n",
       "1  1000001  P00248942      F  0-17          10             A   \n",
       "\n",
       "  Stay_In_Current_City_Years  Marital_Status  Product_Category_1  \\\n",
       "0                          2               0                   3   \n",
       "1                          2               0                   1   \n",
       "\n",
       "   Product_Category_2  Product_Category_3  Purchase  \n",
       "0                 NaN                 NaN      8370  \n",
       "1                 6.0                14.0     15200  "
      ]
     },
     "execution_count": 3,
     "metadata": {},
     "output_type": "execute_result"
    }
   ],
   "source": [
    "train.head(2)"
   ]
  },
  {
   "cell_type": "code",
   "execution_count": 4,
   "id": "ba407794",
   "metadata": {},
   "outputs": [
    {
     "data": {
      "text/html": [
       "<div>\n",
       "<style scoped>\n",
       "    .dataframe tbody tr th:only-of-type {\n",
       "        vertical-align: middle;\n",
       "    }\n",
       "\n",
       "    .dataframe tbody tr th {\n",
       "        vertical-align: top;\n",
       "    }\n",
       "\n",
       "    .dataframe thead th {\n",
       "        text-align: right;\n",
       "    }\n",
       "</style>\n",
       "<table border=\"1\" class=\"dataframe\">\n",
       "  <thead>\n",
       "    <tr style=\"text-align: right;\">\n",
       "      <th></th>\n",
       "      <th>User_ID</th>\n",
       "      <th>Product_ID</th>\n",
       "      <th>Gender</th>\n",
       "      <th>Age</th>\n",
       "      <th>Occupation</th>\n",
       "      <th>City_Category</th>\n",
       "      <th>Stay_In_Current_City_Years</th>\n",
       "      <th>Marital_Status</th>\n",
       "      <th>Product_Category_1</th>\n",
       "      <th>Product_Category_2</th>\n",
       "      <th>Product_Category_3</th>\n",
       "    </tr>\n",
       "  </thead>\n",
       "  <tbody>\n",
       "    <tr>\n",
       "      <th>0</th>\n",
       "      <td>1000004</td>\n",
       "      <td>P00128942</td>\n",
       "      <td>M</td>\n",
       "      <td>46-50</td>\n",
       "      <td>7</td>\n",
       "      <td>B</td>\n",
       "      <td>2</td>\n",
       "      <td>1</td>\n",
       "      <td>1</td>\n",
       "      <td>11.0</td>\n",
       "      <td>NaN</td>\n",
       "    </tr>\n",
       "    <tr>\n",
       "      <th>1</th>\n",
       "      <td>1000009</td>\n",
       "      <td>P00113442</td>\n",
       "      <td>M</td>\n",
       "      <td>26-35</td>\n",
       "      <td>17</td>\n",
       "      <td>C</td>\n",
       "      <td>0</td>\n",
       "      <td>0</td>\n",
       "      <td>3</td>\n",
       "      <td>5.0</td>\n",
       "      <td>NaN</td>\n",
       "    </tr>\n",
       "  </tbody>\n",
       "</table>\n",
       "</div>"
      ],
      "text/plain": [
       "   User_ID Product_ID Gender    Age  Occupation City_Category  \\\n",
       "0  1000004  P00128942      M  46-50           7             B   \n",
       "1  1000009  P00113442      M  26-35          17             C   \n",
       "\n",
       "  Stay_In_Current_City_Years  Marital_Status  Product_Category_1  \\\n",
       "0                          2               1                   1   \n",
       "1                          0               0                   3   \n",
       "\n",
       "   Product_Category_2  Product_Category_3  \n",
       "0                11.0                 NaN  \n",
       "1                 5.0                 NaN  "
      ]
     },
     "execution_count": 4,
     "metadata": {},
     "output_type": "execute_result"
    }
   ],
   "source": [
    "test = pd.read_csv('test_HujdGe7/test.csv')\n",
    "test.head(2)"
   ]
  },
  {
   "cell_type": "markdown",
   "id": "d94fea8f",
   "metadata": {},
   "source": [
    "### 2.  Submit the Base Model "
   ]
  },
  {
   "cell_type": "code",
   "execution_count": 5,
   "id": "1b8c5748",
   "metadata": {},
   "outputs": [],
   "source": [
    "df = pd.DataFrame({'Purchase': 300, 'User_ID': test.User_ID, 'Product_ID': test.Product_ID})"
   ]
  },
  {
   "cell_type": "markdown",
   "id": "9dfff367",
   "metadata": {},
   "source": [
    "### 3. Combine Train and Test Dataset "
   ]
  },
  {
   "cell_type": "code",
   "execution_count": 6,
   "id": "45732d4f",
   "metadata": {},
   "outputs": [],
   "source": [
    "combined = pd.concat([train,test], sort = False, ignore_index = False)"
   ]
  },
  {
   "cell_type": "markdown",
   "id": "cfc7405a",
   "metadata": {},
   "source": [
    "### 4. EDA "
   ]
  },
  {
   "cell_type": "code",
   "execution_count": 7,
   "id": "b39c9a38",
   "metadata": {},
   "outputs": [
    {
     "name": "stderr",
     "output_type": "stream",
     "text": [
      "C:\\Users\\Arpit\\anaconda3\\lib\\site-packages\\seaborn\\_decorators.py:36: FutureWarning: Pass the following variable as a keyword arg: x. From version 0.12, the only valid positional argument will be `data`, and passing other arguments without an explicit keyword will result in an error or misinterpretation.\n",
      "  warnings.warn(\n"
     ]
    },
    {
     "data": {
      "image/png": "[encoded data removed]",
      "text/plain": [
       "<Figure size 432x288 with 1 Axes>"
      ]
     },
     "metadata": {
      "needs_background": "light"
     },
     "output_type": "display_data"
    }
   ],
   "source": [
    "sns.countplot(combined['Gender'])\n",
    "plt.show()"
   ]
  },
  {
   "cell_type": "markdown",
   "id": "9a99ce9f",
   "metadata": {},
   "source": [
    "* During the black friday sale, generally male population is very high compared to females. "
   ]
  },
  {
   "cell_type": "code",
   "execution_count": 8,
   "id": "f0818d25",
   "metadata": {},
   "outputs": [
    {
     "name": "stderr",
     "output_type": "stream",
     "text": [
      "C:\\Users\\Arpit\\anaconda3\\lib\\site-packages\\seaborn\\_decorators.py:36: FutureWarning: Pass the following variable as a keyword arg: x. From version 0.12, the only valid positional argument will be `data`, and passing other arguments without an explicit keyword will result in an error or misinterpretation.\n",
      "  warnings.warn(\n"
     ]
    },
    {
     "data": {
      "image/png": "[encoded data removed]",
      "text/plain": [
       "<Figure size 432x288 with 1 Axes>"
      ]
     },
     "metadata": {
      "needs_background": "light"
     },
     "output_type": "display_data"
    }
   ],
   "source": [
    "sns.countplot(combined['Stay_In_Current_City_Years'])\n",
    "plt.show()"
   ]
  },
  {
   "cell_type": "markdown",
   "id": "adf63ef5",
   "metadata": {},
   "source": [
    "* Most of the people who have resided in the current city only for 1 year can be the target customers, since they are in majority."
   ]
  },
  {
   "cell_type": "code",
   "execution_count": 9,
   "id": "ef8c93dc",
   "metadata": {},
   "outputs": [],
   "source": [
    "combined = combined.drop(['User_ID','Product_ID'], axis = 1)\n",
    "# drop the columns, that cannot contribute to make the model better"
   ]
  },
  {
   "cell_type": "markdown",
   "id": "c5644f1d",
   "metadata": {},
   "source": [
    "### 4. Encoding the categorical columns "
   ]
  },
  {
   "cell_type": "code",
   "execution_count": 10,
   "id": "1c07aa6e",
   "metadata": {},
   "outputs": [],
   "source": [
    "encoding_cat_vars = {'0-17': 1, '18-25': 2, '26-35': 3, '36-45': 4, '46-50': 5, '51-55': 6, '55+': 6 , 'F': 1, 'M': 0, '4+': 4,'A': 1, 'C': 3, 'B': 2}"
   ]
  },
  {
   "cell_type": "code",
   "execution_count": 11,
   "id": "ed739031",
   "metadata": {},
   "outputs": [],
   "source": [
    "combined = combined.applymap(lambda x:encoding_cat_vars.get(x) if x in encoding_cat_vars else x)"
   ]
  },
  {
   "cell_type": "code",
   "execution_count": 78,
   "id": "27e2390d",
   "metadata": {},
   "outputs": [
    {
     "data": {
      "image/png": "[encoded data removed]",
      "text/plain": [
       "<Figure size 432x288 with 1 Axes>"
      ]
     },
     "metadata": {
      "needs_background": "light"
     },
     "output_type": "display_data"
    }
   ],
   "source": [
    "combined[combined['Gender'] == 0]['Age'].value_counts().plot(kind = 'bar')\n",
    "plt.show()"
   ]
  },
  {
   "cell_type": "markdown",
   "id": "1691261f",
   "metadata": {},
   "source": [
    "* Males in the category 3 , i.e aged between 26-35 years, purchase most from the Black Friday Sales."
   ]
  },
  {
   "cell_type": "code",
   "execution_count": 82,
   "id": "a9d09c3c",
   "metadata": {},
   "outputs": [
    {
     "data": {
      "image/png": "[encoded data removed]",
      "text/plain": [
       "<Figure size 432x288 with 1 Axes>"
      ]
     },
     "metadata": {
      "needs_background": "light"
     },
     "output_type": "display_data"
    }
   ],
   "source": [
    "combined[combined['Gender'] == 1]['Age'].value_counts().plot(kind = 'bar')\n",
    "plt.show()"
   ]
  },
  {
   "cell_type": "markdown",
   "id": "8f2be411",
   "metadata": {},
   "source": [
    "### 5. Check the data types of the features "
   ]
  },
  {
   "cell_type": "code",
   "execution_count": 12,
   "id": "02bc77c6",
   "metadata": {
    "scrolled": true
   },
   "outputs": [
    {
     "data": {
      "text/plain": [
       "Gender                          int64\n",
       "Age                             int64\n",
       "Occupation                      int64\n",
       "City_Category                   int64\n",
       "Stay_In_Current_City_Years     object\n",
       "Marital_Status                  int64\n",
       "Product_Category_1              int64\n",
       "Product_Category_2            float64\n",
       "Product_Category_3            float64\n",
       "Purchase                      float64\n",
       "dtype: object"
      ]
     },
     "execution_count": 12,
     "metadata": {},
     "output_type": "execute_result"
    }
   ],
   "source": [
    "combined.dtypes"
   ]
  },
  {
   "cell_type": "code",
   "execution_count": 13,
   "id": "3e132814",
   "metadata": {},
   "outputs": [],
   "source": [
    "combined['Stay_In_Current_City_Years'] = combined['Stay_In_Current_City_Years'].astype('int64')\n",
    "# change the data type of this column from object to numerical "
   ]
  },
  {
   "cell_type": "markdown",
   "id": "62078282",
   "metadata": {},
   "source": [
    "### 6. Impute the null values "
   ]
  },
  {
   "cell_type": "code",
   "execution_count": 14,
   "id": "c76abb1c",
   "metadata": {},
   "outputs": [],
   "source": [
    "combined['Product_Category_2'] = combined['Product_Category_2'].fillna(combined['Product_Category_2'].mode().values[0])"
   ]
  },
  {
   "cell_type": "code",
   "execution_count": 15,
   "id": "26df5bd2",
   "metadata": {},
   "outputs": [],
   "source": [
    "combined['Product_Category_3'] = combined['Product_Category_3'].fillna(combined['Product_Category_3'].mode().values[0])"
   ]
  },
  {
   "cell_type": "code",
   "execution_count": 16,
   "id": "a645c25c",
   "metadata": {},
   "outputs": [],
   "source": [
    "combined['Product_Category_2']= combined['Product_Category_2'].astype('int64')\n",
    "# change the data type from object to numerical "
   ]
  },
  {
   "cell_type": "code",
   "execution_count": 17,
   "id": "95c0ef85",
   "metadata": {},
   "outputs": [],
   "source": [
    "combined['Product_Category_3']= combined['Product_Category_3'].astype('int64')\n",
    "# change the data type from object to numerical "
   ]
  },
  {
   "cell_type": "code",
   "execution_count": 81,
   "id": "bbf5c5fc",
   "metadata": {},
   "outputs": [
    {
     "name": "stderr",
     "output_type": "stream",
     "text": [
      "C:\\Users\\Arpit\\anaconda3\\lib\\site-packages\\seaborn\\_decorators.py:36: FutureWarning: Pass the following variable as a keyword arg: x. From version 0.12, the only valid positional argument will be `data`, and passing other arguments without an explicit keyword will result in an error or misinterpretation.\n",
      "  warnings.warn(\n"
     ]
    },
    {
     "data": {
      "image/png": "[encoded data removed]",
      "text/plain": [
       "<Figure size 432x288 with 1 Axes>"
      ]
     },
     "metadata": {
      "needs_background": "light"
     },
     "output_type": "display_data"
    }
   ],
   "source": [
    "sns.countplot(combined['Age'])\n",
    "plt.xlabel('Age Category')\n",
    "plt.ylabel('Customers in each category')\n",
    "plt.show()"
   ]
  },
  {
   "cell_type": "markdown",
   "id": "93e26dd6",
   "metadata": {},
   "source": [
    "* Most of the customers are aged between 26-35 years , followed by age group, 36-45 years of age. "
   ]
  },
  {
   "cell_type": "markdown",
   "id": "252c5abe",
   "metadata": {},
   "source": [
    "### Correlation of independent Features with The Target variable "
   ]
  },
  {
   "cell_type": "code",
   "execution_count": 19,
   "id": "11d97e70",
   "metadata": {},
   "outputs": [
    {
     "data": {
      "image/png": "[encoded data removed]",
      "text/plain": [
       "<Figure size 432x288 with 2 Axes>"
      ]
     },
     "metadata": {
      "needs_background": "light"
     },
     "output_type": "display_data"
    }
   ],
   "source": [
    "sns.heatmap(combined.corr()[['Purchase']], annot = True, cmap='Blues')\n",
    "plt.show()"
   ]
  },
  {
   "cell_type": "markdown",
   "id": "653e409d",
   "metadata": {},
   "source": [
    "* Marital Status is weakly correlated, with the target variable, but dropping it increases the RMSE score."
   ]
  },
  {
   "cell_type": "code",
   "execution_count": 26,
   "id": "cf8a1a38",
   "metadata": {},
   "outputs": [],
   "source": [
    "new_train = combined.iloc[: train.shape[0], : ].drop('Purchase', axis = 1)"
   ]
  },
  {
   "cell_type": "code",
   "execution_count": 29,
   "id": "f0ffafd1",
   "metadata": {},
   "outputs": [],
   "source": [
    "new_test = combined.iloc[train.shape[0] : , :  ].drop('Purchase', axis = 1)"
   ]
  },
  {
   "cell_type": "markdown",
   "id": "d5c23fc4",
   "metadata": {},
   "source": [
    "### Linear Regression Model "
   ]
  },
  {
   "cell_type": "code",
   "execution_count": 30,
   "id": "11d38a6d",
   "metadata": {},
   "outputs": [],
   "source": [
    "lr = LinearRegression()"
   ]
  },
  {
   "cell_type": "code",
   "execution_count": 31,
   "id": "817b1e56",
   "metadata": {},
   "outputs": [],
   "source": [
    "y_train = train['Purchase']"
   ]
  },
  {
   "cell_type": "code",
   "execution_count": 32,
   "id": "df5a5451",
   "metadata": {},
   "outputs": [],
   "source": [
    "model_bs = lr.fit(new_train, y_train)"
   ]
  },
  {
   "cell_type": "code",
   "execution_count": 33,
   "id": "bcc4da84",
   "metadata": {},
   "outputs": [],
   "source": [
    "y_pred_lr = model_bs.predict(new_test)"
   ]
  },
  {
   "cell_type": "markdown",
   "id": "786268f1",
   "metadata": {},
   "source": [
    "* RMSE Score of 4695.24"
   ]
  },
  {
   "cell_type": "markdown",
   "id": "7ec1a5f0",
   "metadata": {},
   "source": [
    "### XGBoost Model"
   ]
  },
  {
   "cell_type": "code",
   "execution_count": 34,
   "id": "efe4d984",
   "metadata": {},
   "outputs": [],
   "source": [
    "xg = XGBRegressor()"
   ]
  },
  {
   "cell_type": "code",
   "execution_count": 35,
   "id": "d3c3986f",
   "metadata": {},
   "outputs": [],
   "source": [
    "model_xg = xg.fit(new_train, y_train)"
   ]
  },
  {
   "cell_type": "code",
   "execution_count": 36,
   "id": "470d023d",
   "metadata": {},
   "outputs": [],
   "source": [
    "y_pred_gb = model_xg.predict(new_test)"
   ]
  },
  {
   "cell_type": "code",
   "execution_count": 37,
   "id": "b92e1b49",
   "metadata": {},
   "outputs": [],
   "source": [
    "#df_xg = pd.DataFrame({'Purchase': y_pred_gb, 'User_ID': test.User_ID, 'Product_ID': test.Product_ID})"
   ]
  },
  {
   "cell_type": "code",
   "execution_count": 38,
   "id": "91c4c7ec",
   "metadata": {},
   "outputs": [],
   "source": [
    "#df_xg.to_csv('xgmod.csv', index = False)"
   ]
  },
  {
   "cell_type": "markdown",
   "id": "ddac169e",
   "metadata": {},
   "source": [
    "* XGBoost Model returns RMSE score of 2887.08"
   ]
  },
  {
   "cell_type": "code",
   "execution_count": 39,
   "id": "977b44b1",
   "metadata": {},
   "outputs": [
    {
     "data": {
      "text/html": [
       "<div>\n",
       "<style scoped>\n",
       "    .dataframe tbody tr th:only-of-type {\n",
       "        vertical-align: middle;\n",
       "    }\n",
       "\n",
       "    .dataframe tbody tr th {\n",
       "        vertical-align: top;\n",
       "    }\n",
       "\n",
       "    .dataframe thead th {\n",
       "        text-align: right;\n",
       "    }\n",
       "</style>\n",
       "<table border=\"1\" class=\"dataframe\">\n",
       "  <thead>\n",
       "    <tr style=\"text-align: right;\">\n",
       "      <th></th>\n",
       "      <th>Feature Importance</th>\n",
       "    </tr>\n",
       "  </thead>\n",
       "  <tbody>\n",
       "    <tr>\n",
       "      <th>Product_Category_1</th>\n",
       "      <td>0.926256</td>\n",
       "    </tr>\n",
       "    <tr>\n",
       "      <th>Product_Category_3</th>\n",
       "      <td>0.019480</td>\n",
       "    </tr>\n",
       "    <tr>\n",
       "      <th>Product_Category_2</th>\n",
       "      <td>0.017324</td>\n",
       "    </tr>\n",
       "    <tr>\n",
       "      <th>City_Category</th>\n",
       "      <td>0.011118</td>\n",
       "    </tr>\n",
       "    <tr>\n",
       "      <th>Age</th>\n",
       "      <td>0.005745</td>\n",
       "    </tr>\n",
       "    <tr>\n",
       "      <th>Marital_Status</th>\n",
       "      <td>0.005224</td>\n",
       "    </tr>\n",
       "    <tr>\n",
       "      <th>Occupation</th>\n",
       "      <td>0.005022</td>\n",
       "    </tr>\n",
       "    <tr>\n",
       "      <th>Gender</th>\n",
       "      <td>0.004982</td>\n",
       "    </tr>\n",
       "    <tr>\n",
       "      <th>Stay_In_Current_City_Years</th>\n",
       "      <td>0.004848</td>\n",
       "    </tr>\n",
       "  </tbody>\n",
       "</table>\n",
       "</div>"
      ],
      "text/plain": [
       "                            Feature Importance\n",
       "Product_Category_1                    0.926256\n",
       "Product_Category_3                    0.019480\n",
       "Product_Category_2                    0.017324\n",
       "City_Category                         0.011118\n",
       "Age                                   0.005745\n",
       "Marital_Status                        0.005224\n",
       "Occupation                            0.005022\n",
       "Gender                                0.004982\n",
       "Stay_In_Current_City_Years            0.004848"
      ]
     },
     "execution_count": 39,
     "metadata": {},
     "output_type": "execute_result"
    }
   ],
   "source": [
    "pd.DataFrame({'Feature Importance':model_xg.feature_importances_}, index = new_test.columns).sort_values(by = 'Feature Importance', ascending = False)"
   ]
  },
  {
   "cell_type": "markdown",
   "id": "31ba7893",
   "metadata": {},
   "source": [
    "* According to the Random Forest, Product_Category_1 is the most important feature "
   ]
  },
  {
   "cell_type": "code",
   "execution_count": 56,
   "id": "80444151",
   "metadata": {},
   "outputs": [
    {
     "data": {
      "image/png": "[encoded data removed]",
      "text/plain": [
       "<Figure size 648x360 with 1 Axes>"
      ]
     },
     "metadata": {
      "needs_background": "light"
     },
     "output_type": "display_data"
    }
   ],
   "source": [
    "plt.figure(figsize = (9,5))\n",
    "combined['Product_Category_1'].value_counts().plot(kind = 'bar')\n",
    "plt.show()"
   ]
  },
  {
   "cell_type": "markdown",
   "id": "6751e2be",
   "metadata": {},
   "source": [
    "* In Product_Category_1, product **5** is the most popular one."
   ]
  },
  {
   "cell_type": "markdown",
   "id": "6bc58cca",
   "metadata": {},
   "source": [
    "### Average Sales generated by different Product Categories "
   ]
  },
  {
   "cell_type": "code",
   "execution_count": 66,
   "id": "fa1552b8",
   "metadata": {},
   "outputs": [
    {
     "data": {
      "text/plain": [
       "181438.47052167312"
      ]
     },
     "execution_count": 66,
     "metadata": {},
     "output_type": "execute_result"
    }
   ],
   "source": [
    "train.groupby(['Product_Category_1'])['Purchase'].mean().sum()"
   ]
  },
  {
   "cell_type": "code",
   "execution_count": 63,
   "id": "507291eb",
   "metadata": {},
   "outputs": [
    {
     "data": {
      "text/plain": [
       "167816.40749944843"
      ]
     },
     "execution_count": 63,
     "metadata": {},
     "output_type": "execute_result"
    }
   ],
   "source": [
    "train.groupby(['Product_Category_2'])['Purchase'].mean().sum()"
   ]
  },
  {
   "cell_type": "code",
   "execution_count": 64,
   "id": "3511ca75",
   "metadata": {},
   "outputs": [
    {
     "data": {
      "text/plain": [
       "177138.45869198925"
      ]
     },
     "execution_count": 64,
     "metadata": {},
     "output_type": "execute_result"
    }
   ],
   "source": [
    "train.groupby(['Product_Category_3'])['Purchase'].mean().sum()"
   ]
  },
  {
   "cell_type": "markdown",
   "id": "8c295f53",
   "metadata": {},
   "source": [
    "* Maximum Average Sales, is generated from Product Category_1, followed by Product_Category_3"
   ]
  },
  {
   "cell_type": "markdown",
   "id": "73d58ae9",
   "metadata": {},
   "source": [
    "### Random Forest Regressor "
   ]
  },
  {
   "cell_type": "code",
   "execution_count": 40,
   "id": "1023719f",
   "metadata": {},
   "outputs": [],
   "source": [
    "rf = RandomForestRegressor()\n",
    "model_rf = rf.fit(new_train, y_train)\n",
    "y_pred_rf = model_rf.predict(new_test)\n",
    "df_rf = pd.DataFrame({'Purchase': y_pred_rf, 'User_ID': test.User_ID, 'Product_ID': test.Product_ID})"
   ]
  },
  {
   "cell_type": "markdown",
   "id": "5d98bbab",
   "metadata": {},
   "source": [
    "* Random Forest Regressor returns the RMSE of 3029.64"
   ]
  },
  {
   "cell_type": "markdown",
   "id": "529dfe2c",
   "metadata": {},
   "source": [
    "## Inference : "
   ]
  },
  {
   "cell_type": "markdown",
   "id": "b3d2a4a3",
   "metadata": {},
   "source": [
    "* Target customers for Black Friday Sales can be Males.\n",
    "\n",
    "\n",
    "\n",
    "* The age-group that should be targeted the most is between 26-35 years.\n",
    "\n",
    "\n",
    "* The poople who are new to the city, are mostly attracted to the sales. \n",
    "\n",
    "\n",
    "* The best model, which is giving the lowest RMSE score of 2887.04 is XGBoost Model.\n",
    "\n",
    "\n",
    "* The model can be improved by applying Feature Engineering, by adding more features.\n",
    "\n",
    "\n",
    "* According to the XGBoost Model, the most important feature, is Product_Category_1. \n",
    "\n",
    "\n",
    "* In product_category_1, product_5 is the most popular product, that is purchased maximum number of times.\n",
    "\n",
    "\n",
    "* Out of all the product categories, Product_Category_1, generates the maximum average sales, followed by Product_Category_3.\n",
    "\n",
    "\n",
    "* Males and Females in the age-category 3 , i.e aged between 26-35 years, purchase most from the Black Friday Sales."
   ]
  }
 ],
 "metadata": {
  "kernelspec": {
   "display_name": "Python 3",
   "language": "python",
   "name": "python3"
  },
  "language_info": {
   "codemirror_mode": {
    "name": "ipython",
    "version": 3
   },
   "file_extension": ".py",
   "mimetype": "text/x-python",
   "name": "python",
   "nbconvert_exporter": "python",
   "pygments_lexer": "ipython3",
   "version": "3.8.8"
  }
 },
 "nbformat": 4,
 "nbformat_minor": 5
}
